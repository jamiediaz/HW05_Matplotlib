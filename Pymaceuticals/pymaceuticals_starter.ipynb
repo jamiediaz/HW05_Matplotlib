{
 "cells": [
  {
   "cell_type": "code",
   "execution_count": 1,
   "metadata": {},
   "outputs": [
    {
     "data": {
      "text/html": [
       "<div>\n",
       "<style scoped>\n",
       "    .dataframe tbody tr th:only-of-type {\n",
       "        vertical-align: middle;\n",
       "    }\n",
       "\n",
       "    .dataframe tbody tr th {\n",
       "        vertical-align: top;\n",
       "    }\n",
       "\n",
       "    .dataframe thead th {\n",
       "        text-align: right;\n",
       "    }\n",
       "</style>\n",
       "<table border=\"1\" class=\"dataframe\">\n",
       "  <thead>\n",
       "    <tr style=\"text-align: right;\">\n",
       "      <th></th>\n",
       "      <th>Mouse ID</th>\n",
       "      <th>Drug</th>\n",
       "      <th>Timepoint</th>\n",
       "      <th>Tumor Volume (mm3)</th>\n",
       "      <th>Metastatic Sites</th>\n",
       "    </tr>\n",
       "  </thead>\n",
       "  <tbody>\n",
       "    <tr>\n",
       "      <th>0</th>\n",
       "      <td>f234</td>\n",
       "      <td>Stelasyn</td>\n",
       "      <td>0</td>\n",
       "      <td>45.000000</td>\n",
       "      <td>0</td>\n",
       "    </tr>\n",
       "    <tr>\n",
       "      <th>1</th>\n",
       "      <td>f234</td>\n",
       "      <td>Stelasyn</td>\n",
       "      <td>5</td>\n",
       "      <td>47.313491</td>\n",
       "      <td>0</td>\n",
       "    </tr>\n",
       "    <tr>\n",
       "      <th>2</th>\n",
       "      <td>f234</td>\n",
       "      <td>Stelasyn</td>\n",
       "      <td>10</td>\n",
       "      <td>47.904324</td>\n",
       "      <td>0</td>\n",
       "    </tr>\n",
       "    <tr>\n",
       "      <th>3</th>\n",
       "      <td>f234</td>\n",
       "      <td>Stelasyn</td>\n",
       "      <td>15</td>\n",
       "      <td>48.735197</td>\n",
       "      <td>1</td>\n",
       "    </tr>\n",
       "    <tr>\n",
       "      <th>4</th>\n",
       "      <td>f234</td>\n",
       "      <td>Stelasyn</td>\n",
       "      <td>20</td>\n",
       "      <td>51.112713</td>\n",
       "      <td>2</td>\n",
       "    </tr>\n",
       "  </tbody>\n",
       "</table>\n",
       "</div>"
      ],
      "text/plain": [
       "  Mouse ID      Drug  Timepoint  Tumor Volume (mm3)  Metastatic Sites\n",
       "0     f234  Stelasyn          0           45.000000                 0\n",
       "1     f234  Stelasyn          5           47.313491                 0\n",
       "2     f234  Stelasyn         10           47.904324                 0\n",
       "3     f234  Stelasyn         15           48.735197                 1\n",
       "4     f234  Stelasyn         20           51.112713                 2"
      ]
     },
     "execution_count": 1,
     "metadata": {},
     "output_type": "execute_result"
    }
   ],
   "source": [
    "# Dependencies and Setup\n",
    "%matplotlib inline\n",
    "import matplotlib.pyplot as plt\n",
    "import pandas as pd\n",
    "import numpy as np\n",
    "\n",
    "# Hide warning messages in notebook\n",
    "import warnings\n",
    "warnings.filterwarnings('ignore')\n",
    "\n",
    "# File to Load (Remember to Change These)\n",
    "mouse_drug_data_to_load = \"data/mouse_drug_data.csv\"\n",
    "clinical_trial_data_to_load = \"data/clinicaltrial_data.csv\"\n",
    "\n",
    "# Read the Mouse and Drug Data and the Clinical Trial Data\n",
    "mouse_drug_data = pd.read_csv(mouse_drug_data_to_load)\n",
    "clinical_trial_data = pd.read_csv(clinical_trial_data_to_load)\n",
    "\n",
    "# Combine the data into a single dataset\n",
    "drug_data = pd.merge(mouse_drug_data, clinical_trial_data, how=\"left\", on=[\"Mouse ID\", \"Mouse ID\"])\n",
    "\n",
    "# Display the data table for preview\n",
    "drug_data.head()\n"
   ]
  },
  {
   "cell_type": "markdown",
   "metadata": {},
   "source": [
    "## Menu Function"
   ]
  },
  {
   "cell_type": "code",
   "execution_count": 2,
   "metadata": {},
   "outputs": [],
   "source": [
    "def menu():\n",
    "    \n",
    "    choice = input(\">\\n\")\n",
    "    \n",
    "    while choice != 1 or 2 or 3 or 4 or 5 or 6 or 7 or 8 or 9:   \n",
    "        if choice == \"1\":\n",
    "            return \"Capomulin\"\n",
    "        elif choice == \"2\":\n",
    "             return \"Ceftamin\"\n",
    "        elif choice == \"3\":\n",
    "            return \"Infubinol\"\n",
    "        elif choice == \"4\":\n",
    "            return \"Ketapril\"\n",
    "        elif choice == \"5\":\n",
    "            return \"Naftisol\"\n",
    "        elif choice == \"6\":\n",
    "            return \"Propriva\"\n",
    "        elif choice == \"7\":\n",
    "            return \"Ramicane\"\n",
    "        elif choice == \"8\":\n",
    "            return \"Stelasyn\"\n",
    "        elif choice == \"9\":\n",
    "            return \"Zoniferol\"\n",
    "        else:\n",
    "            print(\"Number has to be between 1 and 9. Enter the number.\")\n",
    "            choice = input(\">\\n\")\n",
    "\n",
    "        "
   ]
  },
  {
   "cell_type": "code",
   "execution_count": null,
   "metadata": {},
   "outputs": [
    {
     "name": "stdout",
     "output_type": "stream",
     "text": [
      "Tumor responsiveness to the treatment\n",
      "Pick 3 drugs that will be compared to Placebo\n",
      "1 - Capomulin\n",
      "2 - Ceftamin\n",
      "3 - Infubinol\n",
      "4 - Ketapril\n",
      "5 - Naftisol\n",
      "6 - Propriva\n",
      "7 - Ramicane\n",
      "8 - Stelasyn\n",
      "9 - Zoniferol\n",
      "\n",
      "Enter the first number and hit Enter.\n",
      ">\n",
      "1\n",
      "Enter the second number and hit Enter.\n"
     ]
    }
   ],
   "source": [
    "print(\"Tumor responsiveness to the treatment\")\n",
    "print(\"Pick 3 drugs that will be compared to Placebo\")\n",
    "print(\"1 - Capomulin\\n2 - Ceftamin\\n3 - Infubinol\\n4 - Ketapril\\n5 - Naftisol\\n6 - Propriva\\n7 - Ramicane\\n8 - Stelasyn\\n9 - Zoniferol\\n\")\n",
    "\n",
    "print(\"Enter the first number and hit Enter.\")\n",
    "drug1 = menu()\n",
    "\n",
    "print(\"Enter the second number and hit Enter.\")\n",
    "drug2 = menu()\n",
    "while drug2 == drug1:\n",
    "    print(\"Duplicate. Enter the second number again\")\n",
    "    drug2 = menu()\n",
    "\n",
    "print(\"Enter the third number and hit Enter.\")    \n",
    "drug3 = menu()\n",
    "while drug3 == drug2 or drug3 == drug1:\n",
    "    print(\"This is a duplicate. Enter the third number again.\")\n",
    "    drug3 = menu()\n",
    "        \n"
   ]
  },
  {
   "cell_type": "markdown",
   "metadata": {},
   "source": [
    "## Tumor Response to Treatment"
   ]
  },
  {
   "cell_type": "code",
   "execution_count": null,
   "metadata": {},
   "outputs": [],
   "source": [
    "# Store the Mean Tumor Volume Data Grouped by Drug and Timepoint \n",
    "drug_timepoint_df = drug_data.groupby([\"Drug\",\"Timepoint\"])\n",
    "avg_tumor_vol_df = drug_timepoint_df[\"Tumor Volume (mm3)\"].mean()\n",
    "\n",
    "# Convert to DataFrame\n",
    "avg_tumor_vol_df = pd.DataFrame({\"Average Tumor Volume\":avg_tumor_vol_df}).reset_index()\n",
    "\n",
    "# Preview DataFrame\n",
    "avg_tumor_vol_df.head()"
   ]
  },
  {
   "cell_type": "code",
   "execution_count": null,
   "metadata": {},
   "outputs": [],
   "source": [
    "avg_tumor_pivot = avg_tumor_vol_df.pivot(index= \"Timepoint\", columns=\"Drug\",values=\"Average Tumor Volume\")\n",
    "avg_tumor_pivot.head()"
   ]
  },
  {
   "cell_type": "code",
   "execution_count": null,
   "metadata": {},
   "outputs": [],
   "source": [
    "# Store the Standard Error of Tumor Volumes Grouped by Drug and Timepoint\n",
    "sem_tumor_vol = drug_timepoint_df[\"Tumor Volume (mm3)\"].sem()\n",
    "# Convert to DataFrame\n",
    "sem_tumor_vol_df = pd.DataFrame({\"Standard Error of Tumor Volumes\":sem_tumor_vol}).reset_index()\n",
    "# # Preview DataFrame\n",
    "sem_tumor_vol_df.head()\n"
   ]
  },
  {
   "cell_type": "code",
   "execution_count": null,
   "metadata": {},
   "outputs": [],
   "source": []
  },
  {
   "cell_type": "code",
   "execution_count": null,
   "metadata": {},
   "outputs": [],
   "source": [
    "# Minor Data Munging to Re-Format the Data Frames\n",
    "sem_tumor_pivot = sem_tumor_vol_df.pivot(index= \"Timepoint\", columns=\"Drug\",values=\"Standard Error of Tumor Volumes\")\n",
    "\n",
    "# Preview that Reformatting worked\n",
    "sem_tumor_pivot.head()"
   ]
  },
  {
   "cell_type": "code",
   "execution_count": null,
   "metadata": {},
   "outputs": [],
   "source": [
    "x = [0,5,10,15,20,25,30,35,40,45]\n",
    "\n",
    "y1 = avg_tumor_pivot[drug1]\n",
    "err1 = sem_tumor_pivot[drug1]\n",
    "plt.errorbar(x,y1, err1, marker ='o', color = \"red\")\n",
    "\n",
    "y2 = avg_tumor_pivot[drug2]\n",
    "err2 = sem_tumor_pivot[drug2]\n",
    "plt.errorbar(x,y2, err2, marker ='o', color = \"blue\")\n",
    "\n",
    "y3 = avg_tumor_pivot[drug3]\n",
    "err3 = sem_tumor_pivot[drug3]\n",
    "plt.errorbar(x,y3, err3, marker ='o', color = \"green\")\n",
    "\n",
    "y4 = avg_tumor_pivot[\"Placebo\"]\n",
    "err4 = sem_tumor_pivot[\"Placebo\"]\n",
    "plt.errorbar(x,y4, err4, marker ='o', color = \"black\")\n",
    "\n",
    "\n",
    "plt.legend(loc=\"best\")\n",
    "\n",
    "\n",
    "plt.grid()\n",
    "\n",
    "plt.title(\"Tumor Response to Treatment\")\n",
    "plt.xlabel(\"Time (Days)\")\n",
    "plt.ylabel(\"Tumor Volume (mm3)\")\n",
    "\n",
    "plt.tight_layout()\n",
    "\n",
    "# Show the Figure\n",
    "plt.show()"
   ]
  },
  {
   "cell_type": "markdown",
   "metadata": {},
   "source": [
    "## Metastatic Response to Treatment"
   ]
  },
  {
   "cell_type": "code",
   "execution_count": null,
   "metadata": {},
   "outputs": [],
   "source": [
    "# Store the Mean Met. Site Data Grouped by Drug and Timepoint \n",
    "avg_meta_sites = drug_timepoint_df[\"Metastatic Sites\"].mean()\n",
    "\n",
    "# Convert to DataFrame\n",
    "avg_meta_sites_df = avg_meta_sites.to_frame(\"Metastatic Sites\").reset_index()\n",
    "\n",
    "# Preview DataFrame\n",
    "avg_meta_sites_df.head()"
   ]
  },
  {
   "cell_type": "code",
   "execution_count": null,
   "metadata": {},
   "outputs": [],
   "source": [
    "# Store the Standard Error associated with Met. Sites Grouped by Drug and Timepoint \n",
    "sem_meta_sites = drug_timepoint_df[\"Metastatic Sites\"].sem()\n",
    "# Convert to DataFrame\n",
    "sem_meta_sites_df = sem_meta_sites.to_frame(\"Metastatic Sites\").reset_index()\n",
    "# Preview DataFrame\n",
    "sem_meta_sites_df.head()"
   ]
  },
  {
   "cell_type": "code",
   "execution_count": null,
   "metadata": {},
   "outputs": [],
   "source": []
  },
  {
   "cell_type": "code",
   "execution_count": null,
   "metadata": {},
   "outputs": [],
   "source": [
    "# Minor Data Munging to Re-Format the Data Frames\n",
    "avg_meta_pivot = avg_meta_sites_df.pivot(index= \"Timepoint\", columns=\"Drug\",values=\"Metastatic Sites\")\n",
    "sem_meta_pivot = sem_meta_sites_df.pivot(index= \"Timepoint\", columns=\"Drug\",values=\"Metastatic Sites\")\n",
    "\n",
    "# Preview that Reformatting worked\n",
    "avg_meta_pivot.head()"
   ]
  },
  {
   "cell_type": "code",
   "execution_count": null,
   "metadata": {
    "scrolled": true
   },
   "outputs": [],
   "source": [
    "sem_meta_pivot.head()"
   ]
  },
  {
   "cell_type": "code",
   "execution_count": null,
   "metadata": {},
   "outputs": [],
   "source": [
    "# Generate the Plot (with Error Bars)\n",
    "x = [0,5,10,15,20,25,30,35,40,45]\n",
    "\n",
    "y1 = avg_meta_pivot[drug1]\n",
    "err1 = sem_meta_pivot[drug1]\n",
    "plt.errorbar(x,y1, err1, marker ='o', color=\"red\")\n",
    "\n",
    "y2 = avg_meta_pivot[drug2]\n",
    "err2 = sem_meta_pivot[drug2]\n",
    "plt.errorbar(x,y2, err2, marker ='o', color=\"blue\")\n",
    "\n",
    "y3 = avg_meta_pivot[drug3]\n",
    "err3 = sem_meta_pivot[drug3]\n",
    "plt.errorbar(x,y3, err3, marker ='o', color=\"green\")\n",
    "\n",
    "y4 = avg_meta_pivot[\"Placebo\"]\n",
    "err4 = sem_meta_pivot[\"Placebo\"]\n",
    "plt.errorbar(x,y4, err4, marker ='o', color=\"black\")\n",
    "\n",
    "\n",
    "plt.legend(loc=\"best\")\n",
    "\n",
    "\n",
    "plt.grid()\n",
    "\n",
    "plt.title(\"Metastatic Spread During Treatment\")\n",
    "plt.xlabel(\"Treament Duration (Days)\")\n",
    "plt.ylabel(\"Metastatic Sites\")\n",
    "\n",
    "plt.tight_layout()\n",
    "plt.show()\n",
    "# Save the Figure\n",
    "\n",
    "# Show the Figure\n"
   ]
  },
  {
   "cell_type": "markdown",
   "metadata": {},
   "source": [
    "## Survival Rates"
   ]
  },
  {
   "cell_type": "code",
   "execution_count": null,
   "metadata": {},
   "outputs": [],
   "source": [
    "# Store the Count of Mice Grouped by Drug and Timepoint (W can pass any metric)\n",
    "cnt_mouse = drug_timepoint_df[\"Mouse ID\"].count()\n",
    "# Convert to DataFrame\n",
    "cnt_mouse_df = cnt_mouse.to_frame(\"Mouse Count\").reset_index()\n",
    "# Preview DataFrame\n",
    "cnt_mouse_df.head()"
   ]
  },
  {
   "cell_type": "code",
   "execution_count": null,
   "metadata": {},
   "outputs": [],
   "source": [
    "# Minor Data Munging to Re-Format the Data Frames\n",
    "cnt_mouse_pivot = cnt_mouse_df.pivot(index= \"Timepoint\", columns=\"Drug\",values=\"Mouse Count\")\n",
    "# Preview the Data Frame\n",
    "cnt_mouse_pivot.head()"
   ]
  },
  {
   "cell_type": "code",
   "execution_count": null,
   "metadata": {},
   "outputs": [],
   "source": [
    "cnt_mouse_percent = (cnt_mouse_pivot/cnt_mouse_pivot.iloc[0,:])*100\n",
    "cnt_mouse_percent"
   ]
  },
  {
   "cell_type": "code",
   "execution_count": null,
   "metadata": {},
   "outputs": [],
   "source": [
    "# Generate the Plot (Accounting for percentages)\n",
    "x = [0,5,10,15,20,25,30,35,40,45]\n",
    "\n",
    "plt.plot(x, cnt_mouse_percent[drug1], marker=\"o\", color=\"red\")\n",
    "plt.plot(x, cnt_mouse_percent[drug2], marker=\"o\", color=\"blue\")\n",
    "plt.plot(x, cnt_mouse_percent[drug3], marker=\"o\", color=\"green\")\n",
    "plt.plot(x, cnt_mouse_percent[\"Placebo\"], marker=\"o\", color=\"black\")\n",
    "\n",
    "plt.title(\"Survival Rates\")\n",
    "plt.xlabel(\"Time (Days)\")\n",
    "plt.ylabel(\"Survival Rates\")\n",
    "\n",
    "plt.grid()\n",
    "plt.legend(loc=\"best\")\n",
    "\n",
    "plt.tight_layout()\n",
    "plt.show()\n",
    "\n",
    "\n",
    "# Save the Figure\n",
    "\n",
    "# Show the Figure\n",
    "# plt.show()"
   ]
  },
  {
   "cell_type": "code",
   "execution_count": null,
   "metadata": {},
   "outputs": [],
   "source": []
  },
  {
   "cell_type": "markdown",
   "metadata": {},
   "source": [
    "## Summary Bar Graph"
   ]
  },
  {
   "cell_type": "code",
   "execution_count": null,
   "metadata": {},
   "outputs": [],
   "source": [
    "# Calculate the percent changes for each drug\n",
    "\n",
    "# Display the data to confirm\n"
   ]
  },
  {
   "cell_type": "code",
   "execution_count": null,
   "metadata": {},
   "outputs": [],
   "source": []
  },
  {
   "cell_type": "code",
   "execution_count": null,
   "metadata": {},
   "outputs": [],
   "source": [
    "# Store all Relevant Percent Changes into a Tuple\n",
    "\n",
    "\n",
    "# Splice the data between passing and failing drugs\n",
    "\n",
    "\n",
    "# Orient widths. Add labels, tick marks, etc. \n",
    "\n",
    "\n",
    "# Use functions to label the percentages of changes\n",
    "\n",
    "\n",
    "# Call functions to implement the function calls\n",
    "\n",
    "\n",
    "# Save the Figure\n",
    "\n",
    "\n",
    "# Show the Figure\n",
    "# fig.show()"
   ]
  },
  {
   "cell_type": "code",
   "execution_count": null,
   "metadata": {},
   "outputs": [],
   "source": []
  },
  {
   "cell_type": "code",
   "execution_count": null,
   "metadata": {},
   "outputs": [],
   "source": []
  }
 ],
 "metadata": {
  "anaconda-cloud": {},
  "kernelspec": {
   "display_name": "Python 3",
   "language": "python",
   "name": "python3"
  },
  "language_info": {
   "codemirror_mode": {
    "name": "ipython",
    "version": 3
   },
   "file_extension": ".py",
   "mimetype": "text/x-python",
   "name": "python",
   "nbconvert_exporter": "python",
   "pygments_lexer": "ipython3",
   "version": "3.6.8"
  }
 },
 "nbformat": 4,
 "nbformat_minor": 1
}
